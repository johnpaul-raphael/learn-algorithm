{
 "cells": [
  {
   "cell_type": "code",
   "execution_count": null,
   "id": "eebb5d75",
   "metadata": {},
   "outputs": [],
   "source": [
    "# Python Classes and Objects\n",
    "\n",
    "class Person:\n",
    "    x = 5\n",
    "    def __init__(self,name,age):\n",
    "        self.name = name\n",
    "        self.age = age\n",
    "\n",
    "    def __str__(self):\n",
    "        return f\"{self.name} {self.age}\"\n",
    "p1 = Person(\"John\", 34)\n",
    "p2 = Person(\"paul\", 40)\n",
    "print(f'{p1.age}')\n",
    "print(f'{p1.name}')\n",
    "print(f'{p1.x}')\n",
    "print(Person.x)\n",
    "Person.x = 1000\n",
    "print(f'{p1.age}')\n",
    "print(f'{p1.name}')\n",
    "print(f'{p1.x}')\n",
    "print(f'{p2.age}')\n",
    "print(f'{p2.name}')\n",
    "print(f'{p2.x}')\n",
    "print(p1)"
   ]
  },
  {
   "cell_type": "code",
   "execution_count": 41,
   "id": "25dc4f79",
   "metadata": {},
   "outputs": [
    {
     "name": "stdout",
     "output_type": "stream",
     "text": [
      "Name: Johnpaul, Age: 40, Salary: 500k, EmpID: 101, Sex: M\n"
     ]
    }
   ],
   "source": [
    "# Python Inheritance\n",
    "# Inheritance allows us to define a class that inherits all the methods and properties from another class.\n",
    "# Parent class is the class being inherited from, also called base class.\n",
    "# Child class is the class that inherits from another class, also called derived class.\n",
    "\n",
    "# Types of Python Inheritance\n",
    "# Single Inheritance: A child class inherits from one parent class.\n",
    "# Multiple Inheritance: A child class inherits from more than one parent class.\n",
    "# Multilevel Inheritance: A class is derived from a class which is also derived from another class.\n",
    "# Hierarchical Inheritance: Multiple classes inherit from a single parent class.\n",
    "# Hybrid Inheritance: A combination of more than one type of inheritance.\n",
    "\n",
    "# Single Inheritance\n",
    "class Student(Person):\n",
    "    \n",
    "    def __init__(self, name, age, graduationYear):\n",
    "        print('Single Inheritance')\n",
    "        self.graduationYear = graduationYear\n",
    "        Person.__init__(self,name, age)\n",
    "        \n",
    "    def message(self):\n",
    "        print(f\"Your Name '{self.name}' and age '{self.age}' and graduated on '{self.graduationYear}'\")\n",
    "\n",
    "# s1 = Student('1st year student', 25, 2010)\n",
    "# print(s1.name)\n",
    "# print(s1.age)\n",
    "# print(s1.graduationYear)\n",
    "# s1.message()\n",
    "\n",
    "# Multiple Inheritance:\n",
    "class Job:\n",
    "    \n",
    "    def __init__(self, salary):\n",
    "        self.salary = salary\n",
    "\n",
    "    def __str__(self):\n",
    "        print(f'{self.salary=}')\n",
    "\n",
    "class Employee(Person, Job):\n",
    "    def __init__(self, name, age, salary, empid, sex):\n",
    "        Person.__init__(self, name, age)\n",
    "        Job.__init__(self, salary)\n",
    "        self.empid = empid\n",
    "        self.sex = sex\n",
    "\n",
    "    def __str__(self):\n",
    "        print(f'Name: {self.name}, Age: {self.age}, Salary: {self.salary}, EmpID: {self.empid}, Sex: {self.sex}')\n",
    "\n",
    "e1 = Employee('Johnpaul', 40, '500k', 101, 'M')\n",
    "e1.__str__()\n"
   ]
  },
  {
   "cell_type": "code",
   "execution_count": null,
   "id": "25aa7669",
   "metadata": {},
   "outputs": [],
   "source": []
  }
 ],
 "metadata": {
  "kernelspec": {
   "display_name": "Python 3",
   "language": "python",
   "name": "python3"
  },
  "language_info": {
   "codemirror_mode": {
    "name": "ipython",
    "version": 3
   },
   "file_extension": ".py",
   "mimetype": "text/x-python",
   "name": "python",
   "nbconvert_exporter": "python",
   "pygments_lexer": "ipython3",
   "version": "3.9.0"
  }
 },
 "nbformat": 4,
 "nbformat_minor": 5
}
