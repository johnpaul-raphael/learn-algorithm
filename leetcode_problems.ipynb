{
 "cells": [
  {
   "cell_type": "code",
   "execution_count": null,
   "id": "c12e23a4",
   "metadata": {},
   "outputs": [],
   "source": [
    "def palindrom(nums: list):\n",
    "# [123321]\n",
    "    if not nums:\n",
    "        return True\n",
    "    \n",
    "    f = 0\n",
    "    l = len(nums) - 1\n",
    "    while f < l:\n",
    "        if nums[f] != nums[l]:\n",
    "            return False\n",
    "        f += 1\n",
    "        l -= 1 \n",
    "    return True\n",
    "\n",
    "result1 = palindrom([1,2,3,3,2,1])\n",
    "print(result1)\n",
    "result2 = palindrom([1,2,3,3,2,2])\n",
    "print(result2)"
   ]
  },
  {
   "cell_type": "code",
   "execution_count": 12,
   "id": "4be0bb38",
   "metadata": {},
   "outputs": [
    {
     "name": "stdout",
     "output_type": "stream",
     "text": [
      "difference=1\n",
      "index: 1 and current_dif=-3\n",
      "index: 2 and current_dif=4\n",
      "index: 3 and current_dif=-5\n",
      "index: 4 and current_dif=2\n",
      "index: 5 and current_dif=-3\n",
      "result1=True\n",
      "difference=-2\n",
      "index: 1 and current_dif=1\n",
      "index: 2 and current_dif=-3\n",
      "index: 3 and current_dif=2\n",
      "index: 4 and current_dif=-4\n",
      "index: 5 and current_dif=3\n",
      "result2=True\n",
      "difference=-2\n",
      "index: 1 and current_dif=0\n",
      "result3=False\n"
     ]
    }
   ],
   "source": [
    "def isWave(nums: list) -> bool:\n",
    "    #  0  1  2  3  4  5  6\n",
    "    # [3, 2, 5, 1, 6, 4, 7]\n",
    "    # [2, 3, 1, 5, 4, 6, 4]\n",
    "    # loop value\n",
    "    # check difference example arr[0] - arr[1] if its +ve then the next value should be -ve\n",
    "    # to check wave we need minimun three value in the input value\n",
    "\n",
    "    if len(nums) < 3:\n",
    "        return True\n",
    "    \n",
    "    difference = nums[0] - nums[1]\n",
    "    print(f'{difference=}')\n",
    "    if difference == 0:\n",
    "        return False\n",
    "    \n",
    "    for i in range(1,len(nums) - 1):\n",
    "\n",
    "        current_dif = nums[i] - nums[i + 1]\n",
    "        print(f'index: {i} and {current_dif=}')\n",
    "        if current_dif == 0 or (difference < 0 and current_dif < 0) or (difference > 0 and current_dif > 0):\n",
    "            return False\n",
    "        # we must keep track of the previous difference to check if the next is the opposite of the current difference only then its a wave\n",
    "        difference = current_dif\n",
    "    return True\n",
    "\n",
    "\n",
    "result1 = isWave([3,2,5,1,6,4,7])\n",
    "print(f'{result1=}')\n",
    "result2 = isWave([1,3,2,5,3,7,4])\n",
    "print(f'{result2=}')\n",
    "result3 = isWave([1,3,3,5,3,7,4])\n",
    "print(f'{result3=}')\n",
    "\n"
   ]
  }
 ],
 "metadata": {
  "kernelspec": {
   "display_name": "Python 3",
   "language": "python",
   "name": "python3"
  },
  "language_info": {
   "codemirror_mode": {
    "name": "ipython",
    "version": 3
   },
   "file_extension": ".py",
   "mimetype": "text/x-python",
   "name": "python",
   "nbconvert_exporter": "python",
   "pygments_lexer": "ipython3",
   "version": "3.9.0"
  }
 },
 "nbformat": 4,
 "nbformat_minor": 5
}
