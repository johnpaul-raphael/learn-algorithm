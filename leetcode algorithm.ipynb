{
 "cells": [
  {
   "cell_type": "code",
   "execution_count": 3,
   "id": "5f089e98",
   "metadata": {},
   "outputs": [
    {
     "name": "stdout",
     "output_type": "stream",
     "text": [
      "result=21\n"
     ]
    }
   ],
   "source": [
    "# Sliding Window\n",
    "# You're working with contiguous elements (subarrays or substrings).\n",
    "# 🔢 You're calculating something over a subarray/substring (e.g., sum, max, count).\n",
    "# 🪟 You need to optimize a brute-force approach that checks all windows of size k.\n",
    "# ⏳ You're working with window-based problems like:\n",
    "# Maximum or minimum value in a window\n",
    "# Average or sum of a fixed-size subarray\n",
    "# Longest/shortest substring with constraints (unique chars, vowels, etc.)\n",
    "# 📐 You’re solving problems like:\n",
    "# Find the longest/shortest subarray/substring satisfying a condition\n",
    "# Find number of substrings with exactly/at most k distinct characters\n",
    "# Find maximum number of 1s with at most k 0s flipped\n",
    "# 💡 You need to adjust the window size dynamically to fit a constraint (→ use dynamic sliding window)\n",
    "# 📈 You want to avoid recomputation of repeated work in overlapping subarrays\n",
    "\n",
    "def fixedSlidingWindow(inputVal: list, k: int) -> int:\n",
    "\n",
    "    # edge case\n",
    "    if not inputVal or k == 0:\n",
    "        print('empty input')\n",
    "        return inputVal\n",
    "\n",
    "    # 1, 2, 3, 4, 5, 6, 7, 8\n",
    "    maxSum = windowSum = sum(inputVal[:k])\n",
    "\n",
    "\n",
    "    for i in range(k, len(inputVal)):\n",
    "        windowSum += inputVal[i] - inputVal[i-k]\n",
    "\n",
    "        if maxSum < windowSum:\n",
    "            maxSum = windowSum\n",
    "    return maxSum\n",
    "\n",
    "arr = [1, 2, 3, 4, 5, 6, 7, 8]\n",
    "result = fixedSlidingWindow(arr, 3)\n",
    "print(f'{result=}')\n",
    "    \n",
    "\n"
   ]
  }
 ],
 "metadata": {
  "kernelspec": {
   "display_name": "Python 3",
   "language": "python",
   "name": "python3"
  },
  "language_info": {
   "codemirror_mode": {
    "name": "ipython",
    "version": 3
   },
   "file_extension": ".py",
   "mimetype": "text/x-python",
   "name": "python",
   "nbconvert_exporter": "python",
   "pygments_lexer": "ipython3",
   "version": "3.9.0"
  }
 },
 "nbformat": 4,
 "nbformat_minor": 5
}
